{
 "cells": [
  {
   "cell_type": "code",
   "execution_count": null,
   "metadata": {},
   "outputs": [],
   "source": [
    "import torch\n",
    "from torch import nn, optim\n",
    "import torch.nn.functional as F\n",
    "\n",
    "from torch.utils.data import DataLoader\n",
    "import torchvision\n",
    "from torchvision import datasets, transforms\n",
    "import numpy as np\n",
    "import pandas as pd\n",
    "import matplotlib.pyplot as plt\n",
    "import seaborn as sns\n",
    "import itertools\n",
    "import scanpy as sc\n",
    "import plotly.express as px\n",
    "import plotly.io as pio\n",
    "import sklearn.preprocessing\n",
    "\n",
    "\n",
    "\n",
    "\n",
    "torch.autograd.set_detect_anomaly(True)"
   ]
  },
  {
   "cell_type": "code",
   "execution_count": null,
   "metadata": {},
   "outputs": [],
   "source": [
    "import platform\n",
    "if platform.platform() == 'macOS-10.16-x86_64-i386-64bit':\n",
    "    pio.renderers.default = 'notebook'\n",
    "    device = torch.device('mps')\n",
    "    print(\"Using Apple MPS on Macbook Pro\")\n",
    "    gmount = False\n",
    "    \n",
    "elif platform.platform() == 'Linux-5.10.133+-x86_64-with-Ubuntu-18.04-bionic':\n",
    "    pio.renderers.default = 'colab'\n",
    "    if torch.cuda.is_available():\n",
    "        device = torch.device(\"cuda\")\n",
    "        print(\"Using CUDA GPU on Colab\")\n",
    "        gmount = True"
   ]
  },
  {
   "cell_type": "code",
   "execution_count": null,
   "metadata": {},
   "outputs": [],
   "source": [
    "scdata = sc.read_h5ad(\"/Users/eamonmcandrew/Desktop/Single_cell_integration/Data/Multi-ome/GEX.h5ad\")"
   ]
  },
  {
   "cell_type": "code",
   "execution_count": null,
   "metadata": {},
   "outputs": [],
   "source": [
    "if gmount == True:\n",
    "    from google.colab import drive\n",
    "    drive.mount('/content/drive')\n",
    "    path = '/content/drive/My Drive/Colab Notebooks/Experiments/' \n",
    "    scdata = sc.read_h5ad(\"/content/gdrive/MyDrive/scintegration/GEX.h5ad\")"
   ]
  },
  {
   "cell_type": "code",
   "execution_count": null,
   "metadata": {},
   "outputs": [],
   "source": [
    "class GEX_Dataset(torch.utils.data.Dataset):\n",
    "    \n",
    "      def __init__(self, data,  scaler = None, cat_var = None, label_encoder =None):\n",
    "          \n",
    "            self.data = data\n",
    "            \n",
    "            # we need to work with the dense matrix\n",
    "            self.values = data.X.todense()\n",
    "            \n",
    "            self.cat_var = cat_var\n",
    "            \n",
    "            if label_encoder == \"numeric\":\n",
    "            # numerically encode the labels\n",
    "              cat_var_data =  torch.tensor(sklearn.preprocessing.LabelEncoder().fit_transform(self.data.obs[self.cat_var]), dtype = torch.long)\n",
    "            \n",
    "            elif label_encoder == \"range_map\":\n",
    "              cat_var_data =  sklearn.preprocessing.LabelEncoder().fit_transform(self.data.obs[self.cat_var])\n",
    "              cat_var_data = cat_var_data.reshape(-1, 1) \n",
    "              cat_var_data = torch.tensor(sklearn.preprocessing.MinMaxScaler().fit_transform(cat_var_data), dtype = torch.float32)\n",
    "\n",
    "            elif label_encoder == \"one_hot\":\n",
    "              cat_var_data =  torch.tensor(sklearn.preprocessing.LabelEncoder().fit_transform(self.data.obs[self.cat_var]))\n",
    "              cat_var_data = cat_var_data.reshape(-1, 1)\n",
    "              cat_var_data = sklearn.preprocessing.OneHotEncoder().fit_transform(cat_var_data).toarray()\n",
    "              cat_var_data = torch.tensor(cat_var_data, dtype=torch.float32)\n",
    "              \n",
    "\n",
    "\n",
    "\n",
    "            self.cat_var_data = torch.tensor(cat_var_data)\n",
    "            \n",
    "            # scale the data according to user inpt to scaler argument\n",
    "            if scaler == \"Standard\":\n",
    "                self.scaled_values = torch.tensor(sklearn.preprocessing.StandardScaler().fit_transform(self.values), dtype = torch.float32)\n",
    "            elif scaler == \"MinMax\":\n",
    "                self.scaled_values = torch.tensor(sklearn.preprocessing.MinMaxScaler().fit_transform(self.values),  dtype = torch.float32)\n",
    "            else:\n",
    "                self.scaled_values = torch.tensor(self.values, dtype = torch.float32)\n",
    "                \n",
    "    #   return the number of genes when called \n",
    "             \n",
    "      @property\n",
    "      def n_features(self):\n",
    "          return self.values.shape[1]\n",
    "\n",
    "      @property\n",
    "      def n_catagories(self):\n",
    "          return self.cat_var_data.shape[1]\n",
    "        \n",
    "      \n",
    "          \n",
    "          \n",
    "    #  A dataset class needs the following two methods to work with the dataloader class     \n",
    "          \n",
    "    #   return the number of cells when called\n",
    "      def __len__(self):\n",
    "          return len(self.data)\n",
    "    \n",
    "    #  return an individual cell and its label when called\n",
    "      def __getitem__(self, idx):\n",
    "           return self.scaled_values[idx], self.cat_var_data[idx]\n",
    "\n",
    "    "
   ]
  },
  {
   "cell_type": "code",
   "execution_count": null,
   "metadata": {},
   "outputs": [],
   "source": [
    "GEX_Dataset = GEX_Dataset(scdata, scaler = \"Standard\", cat_var = \"batch\", label_encoder = \"one_hot\")\n"
   ]
  },
  {
   "cell_type": "code",
   "execution_count": null,
   "metadata": {},
   "outputs": [],
   "source": [
    "input_size = GEX_Dataset.n_features\n",
    "output_size = GEX_Dataset.n_catagories\n",
    "\n",
    "\n",
    "batch_size = 256\n",
    "epochs = 100\n",
    "lr = 1e-3\n",
    "\n",
    "log_interval = 10"
   ]
  },
  {
   "cell_type": "code",
   "execution_count": null,
   "metadata": {},
   "outputs": [],
   "source": [
    "output_size\n"
   ]
  },
  {
   "cell_type": "code",
   "execution_count": null,
   "metadata": {},
   "outputs": [],
   "source": [
    "class classifier(nn.Module):\n",
    "    def __init__(self):\n",
    "        super(classifier, self).__init__()\n",
    "        self.cfc1 = nn.Linear(input_size, 20)\n",
    "        self.dropout = nn.Dropout(0.25)\n",
    "        self.cfc2 = nn.Linear(20, output_size)\n",
    "        \n",
    "    def forward(self, x):\n",
    "        x = self.cfc1(x)\n",
    "        x = F.relu(x)\n",
    "        x = self.dropout(x)\n",
    "        x = self.cfc2(x)\n",
    "        x = F.softmax(x, dim = 1)\n",
    "        return(x)"
   ]
  },
  {
   "cell_type": "code",
   "execution_count": null,
   "metadata": {},
   "outputs": [],
   "source": [
    "GEX_dataloader = DataLoader(GEX_Dataset, batch_size=batch_size, shuffle=True)\n",
    "model = classifier()\n",
    "model.to(device)\n",
    "optimizer = optim.Adam(model.parameters(), lr=lr)\n",
    "model.train()\n",
    "\n",
    "criterion = nn.CrossEntropyLoss()"
   ]
  },
  {
   "cell_type": "code",
   "execution_count": null,
   "metadata": {},
   "outputs": [],
   "source": []
  },
  {
   "cell_type": "code",
   "execution_count": null,
   "metadata": {},
   "outputs": [],
   "source": [
    "loss_list = []\n",
    "accuracy_list = []\n",
    "mean_loss = 0\n",
    "mean_accuracy =0\n",
    "\n",
    "for epoch in range(epochs+1):\n",
    "    for batch_idx, (data, target) in enumerate(GEX_dataloader):\n",
    "        data = data.to(device)\n",
    "        target = target.to(device)\n",
    "        optimizer.zero_grad()\n",
    "        output = model(data)\n",
    "        loss = criterion(output, target)\n",
    "        loss.backward()\n",
    "        loss_list.append(loss.item())\n",
    "        optimizer.step()\n",
    "        accuracy_list.append((output.argmax(1) == target.argmax(1)).type(torch.float).mean().item())\n",
    "        if batch_idx % log_interval == 0:\n",
    "            print(f\"Train Epoch {epoch} [{batch_idx * len(data)}/{len(GEX_dataloader.dataset)} ({100. * batch_idx / len(GEX_dataloader):.0f}%)]\\tLoss: {loss.item():.6f}, mean accuracy last epoch: {np.mean(accuracy_list[mean_accuracy:]):.3f}\")\n",
    "mean_loss = np.mean(loss_list)\n",
    "mean_accuracy = np.mean(accuracy_list)\n",
    "print(f\"Epoch: {epoch}, Mean Loss: {mean_loss:.6f}, Mean Accuracy: {mean_accuracy:.6f}, Training {100. * epoch / epochs}% Complete\")\n"
   ]
  },
  {
   "cell_type": "code",
   "execution_count": null,
   "metadata": {},
   "outputs": [],
   "source": [
    "# I am trying to train a classifier on a dataset of cells with a single label. I am using the pytorch dataloader class to load the data into the model. I am using the following code to train the model:"
   ]
  },
  {
   "cell_type": "code",
   "execution_count": null,
   "metadata": {},
   "outputs": [],
   "source": [
    "model.eval()"
   ]
  },
  {
   "cell_type": "code",
   "execution_count": null,
   "metadata": {},
   "outputs": [],
   "source": [
    "for batch_idx, (data, target) in enumerate(GEX_dataloader):\n",
    "    data = data.to(device)\n",
    "    target = target.to(device)\n",
    "    output = model(data)\n",
    "    loss = criterion(output, target)\n",
    "    print(f\"Target {target[:1]}, Output {output[:1]}, Loss {loss.item()}\")\n"
   ]
  },
  {
   "cell_type": "code",
   "execution_count": null,
   "metadata": {},
   "outputs": [],
   "source": [
    "# visualise the loss\n",
    "\n",
    "plt.plot(loss_list)"
   ]
  },
  {
   "cell_type": "code",
   "execution_count": null,
   "metadata": {},
   "outputs": [],
   "source": [
    "def predict(model, data):\n",
    "    model.eval()\n",
    "    with torch.no_grad():\n",
    "        output = model(data)\n",
    "        pred = output.argmax(dim=1, keepdim=True)\n",
    "    return pred\n",
    "        \n",
    "        \n"
   ]
  },
  {
   "cell_type": "code",
   "execution_count": null,
   "metadata": {},
   "outputs": [],
   "source": [
    "def get_total_accuracy(model, data_loader):\n",
    "    accuracy_total = []\n",
    "    for batch_idx, (data, target) in enumerate(data_loader):\n",
    "        data = data.to(device)\n",
    "        target = target.to(device)\n",
    "        pred = predict(model, data).cpu()\n",
    "        actual = target.argmax(dim=1, keepdim=True).cpu()\n",
    "        accuracy_total.append(pred.eq(actual).sum().item() / len(pred))\n",
    "    return np.mean(accuracy_total)\n",
    "    \n"
   ]
  },
  {
   "cell_type": "code",
   "execution_count": null,
   "metadata": {},
   "outputs": [],
   "source": [
    "get_total_accuracy(model, GEX_dataloader)"
   ]
  },
  {
   "cell_type": "code",
   "execution_count": null,
   "metadata": {},
   "outputs": [],
   "source": [
    "# scdata = sc.read_h5ad(\"/Users/eamonmcandrew/Desktop/Single_cell_integration/Data/Multi-ome/GEX.h5ad\")\n",
    "# cell_data = pd.DataFrame(scdata.X.todense().T)\n",
    "# cell_cell_corr = pd.DataFrame(np.corrcoef(cell_data.values, rowvar=False), columns=cell_data.columns)"
   ]
  },
  {
   "cell_type": "code",
   "execution_count": null,
   "metadata": {},
   "outputs": [],
   "source": [
    "# cell_cell_corr = cell_cell_corr.where(np.triu(np.ones(cell_cell_corr.shape), k=1).astype(np.bool))"
   ]
  },
  {
   "cell_type": "code",
   "execution_count": null,
   "metadata": {},
   "outputs": [],
   "source": []
  },
  {
   "cell_type": "code",
   "execution_count": null,
   "metadata": {},
   "outputs": [],
   "source": [
    "grad_cam(model, GEX_dataloader)"
   ]
  },
  {
   "cell_type": "code",
   "execution_count": null,
   "metadata": {},
   "outputs": [],
   "source": []
  }
 ],
 "metadata": {
  "kernelspec": {
   "display_name": "Python 3.9.13 ('scINTEGRATION')",
   "language": "python",
   "name": "python3"
  },
  "language_info": {
   "codemirror_mode": {
    "name": "ipython",
    "version": 3
   },
   "file_extension": ".py",
   "mimetype": "text/x-python",
   "name": "python",
   "nbconvert_exporter": "python",
   "pygments_lexer": "ipython3",
   "version": "3.9.13"
  },
  "orig_nbformat": 4,
  "vscode": {
   "interpreter": {
    "hash": "1d226e3599a48bcd2e3e064e4b49e64b5c23bb1e3c85e4572c7816e0051bede7"
   }
  }
 },
 "nbformat": 4,
 "nbformat_minor": 2
}
